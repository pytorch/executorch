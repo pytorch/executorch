{
 "cells": [
  {
   "cell_type": "code",
   "execution_count": null,
   "metadata": {},
   "outputs": [],
   "source": [
    "# Copyright 2025 Arm Limited and/or its affiliates.\n",
    "#\n",
    "# This source code is licensed under the BSD-style license found in the\n",
    "# LICENSE file in the root directory of this source tree."
   ]
  },
  {
   "cell_type": "markdown",
   "metadata": {},
   "source": [
    "# VGF Backend flow example\n",
    "\n",
    "This guide demonstrates the full flow for lowering a module using the VGF backend using ExecuTorch. \n",
    "Tested on Linux x86_64. If something is not working for you, please raise a GitHub issue and tag Arm.\n",
    "\n",
    "Before you begin:\n",
    "1. (In a clean virtual environment with a compatible Python version) Install executorch using `./install_executorch.sh`\n",
    "2. Install MLSDK and Tosa using `examples/arm/setup.sh --disable-ethos-u-deps --enable-mlsdk-deps (For further guidance, refer to https://docs.pytorch.org/executorch/main/tutorial-arm.html)\n",
    "3. Export vulkan environment variables and add MLSDK components to PATH and LD_LIBRARY_PATH using `examples/arm/ethos-u-scratch/setup_path.sh`\n",
    "\n",
    "With all commands executed from the base `executorch` folder.\n",
    "\n",
    "\n",
    "\n",
    "*Some scripts in this notebook produce long output logs: Configuring the 'Customizing Notebook Layout' settings to enable 'Output:scrolling' and setting 'Output:Text Line Limit' makes this more manageable*"
   ]
  },
  {
   "cell_type": "markdown",
   "metadata": {},
   "source": [
    "## AOT Flow\n",
    "\n",
    "The first step is creating the PyTorch module and exporting it. Exporting converts the python code in the module into a graph structure. The result is still runnable python code, which can be displayed by printing the `graph_module` of the exported program.  "
   ]
  },
  {
   "cell_type": "code",
   "execution_count": null,
   "metadata": {},
   "outputs": [],
   "source": [
    "import torch\n",
    "\n",
    "class Add(torch.nn.Module):\n",
    "    def forward(self, x: torch.Tensor, y: torch.Tensor) -> torch.Tensor:\n",
    "        return x + y\n",
    "\n",
    "example_inputs = (torch.ones(1,1,1,1),torch.ones(1,1,1,1))\n",
    "\n",
    "model = Add()\n",
    "model = model.eval()\n",
    "exported_program = torch.export.export_for_training(model, example_inputs)\n",
    "graph_module = exported_program.module()\n",
    "\n",
    "_ = graph_module.print_readable()"
   ]
  },
  {
   "cell_type": "markdown",
   "metadata": {},
   "source": [
    "# VGF backend supports both INT and FP targets. \n",
    "\n",
    "To lower the graph_module for FP targets using the VGF backend, we run it through the default FP lowering pipeline. \n",
    "\n",
    "FP lowering can be customized for different subgraphs; the sequence shown here is the recommended workflow for VGF.\n",
    "Because we are staying in floating-point precision, no calibration with example inputs is required. \n",
    "\n",
    "If you print the module again, you will see that nodes are left in FP form (or annotated with any necessary casts) without any quantize/dequantize wrappers.\n"
   ]
  },
  {
   "cell_type": "code",
   "execution_count": null,
   "metadata": {},
   "outputs": [],
   "source": [
    "from executorch.backends.arm.arm_backend import ArmCompileSpecBuilder\n",
    "from executorch.backends.arm.tosa_specification import ( \n",
    "    TosaSpecification,\n",
    ")\n",
    "\n",
    "# Create a compilation spec describing the floating point target.\n",
    "tosa_spec = TosaSpecification.create_from_string(\"TOSA-1.0+FP\")\n",
    "\n",
    "spec_builder = ArmCompileSpecBuilder().vgf_compile_spec(tosa_spec)\n",
    "compile_spec = spec_builder.build()\n",
    "\n",
    "_ = graph_module.print_readable()\n",
    "\n",
    "# Create a new exported program using the graph_module\n",
    "exported_program = torch.export.export_for_training(graph_module, example_inputs)"
   ]
  },
  {
   "cell_type": "markdown",
   "metadata": {},
   "source": [
    "To lower the graph_module for INT targets using the VGF backend, we apply the arm_quantizer. \n",
    "\n",
    "Quantization can be performed in various ways and tailored to different subgraphs; the sequence shown here represents the recommended workflow for VGF. \n",
    "\n",
    "This step also requires calibrating the module with representative inputs. \n",
    "\n",
    "If you print the module again, you’ll see that each node is now wrapped in quantization/dequantization nodes that embed the calculated quantization parameters."
   ]
  },
  {
   "cell_type": "code",
   "execution_count": null,
   "metadata": {},
   "outputs": [],
   "source": [
    "from executorch.backends.arm.quantizer import (\n",
    "    VgfQuantizer,\n",
    "    get_symmetric_quantization_config,\n",
    ")\n",
    "from torchao.quantization.pt2e.quantize_pt2e import convert_pt2e, prepare_pt2e\n",
    "\n",
    "# Create a compilation spec describing the target for configuring the quantizer\n",
    "tosa_spec = TosaSpecification.create_from_string(\"TOSA-1.0+INT\")\n",
    "\n",
    "spec_builder = ArmCompileSpecBuilder().vgf_compile_spec(tosa_spec)\n",
    "compile_spec = spec_builder.build()\n",
    "\n",
    "# Create and configure quantizer to use a symmetric quantization config globally on all nodes\n",
    "quantizer = VgfQuantizer(compile_spec)\n",
    "operator_config = get_symmetric_quantization_config(is_per_channel=False)\n",
    "quantizer.set_global(operator_config)\n",
    "\n",
    "# Post training quantization\n",
    "quantized_graph_module = prepare_pt2e(graph_module, quantizer)\n",
    "quantized_graph_module(*example_inputs) # Calibrate the graph module with the example input\n",
    "quantized_graph_module = convert_pt2e(quantized_graph_module)\n",
    "\n",
    "_ = quantized_graph_module.print_readable()\n",
    "\n",
    "# Create a new exported program using the quantized_graph_module\n",
    "quantized_exported_program = torch.export.export_for_training(quantized_graph_module, example_inputs)"
   ]
  },
  {
   "cell_type": "markdown",
   "metadata": {},
   "source": [
    "# In the example below, we will make use of the quantized graph module.\n",
    "\n",
    "The lowering in the VGFBackend happens in five steps:\n",
    "\n",
    "1. **Lowering to core Aten operator set**: Transform module to use a subset of operators applicable to edge devices. \n",
    "2. **Partitioning**: Find subgraphs that will be lowered by the VGF backend.\n",
    "3. **Lowering to TOSA compatible operator set**: Perform transforms to make the VGF subgraph(s) compatible with TOSA \n",
    "4. **Serialization to TOSA**: Compiles the graph module into a TOSA graph \n",
    "5. **Compilation to VGF**: Compiles the FX GraphModule into a VGF representation using the model_converter and the previously created compile_spec. It also prints a network summary for each processed VGF partition.\n",
    "\n",
    "All of this happens behind the scenes in `to_edge_transform_and_lower`. Printing the graph module shows that what is left in the graph is two quantization nodes for `x` and `y` going into an `executorch_call_delegate` node, followed by a dequantization node."
   ]
  },
  {
   "cell_type": "code",
   "execution_count": null,
   "metadata": {},
   "outputs": [],
   "source": [
    "import os\n",
    "from executorch.backends.arm.vgf_partitioner import VgfPartitioner\n",
    "from executorch.exir import (\n",
    "    EdgeCompileConfig,\n",
    "    ExecutorchBackendConfig,\n",
    "    to_edge_transform_and_lower,\n",
    ")\n",
    "from executorch.extension.export_util.utils import save_pte_program\n",
    "\n",
    "# Create partitioner from compile spec\n",
    "partitioner = VgfPartitioner(compile_spec)\n",
    "\n",
    "# Lower the exported program to the VGF backend\n",
    "edge_program_manager = to_edge_transform_and_lower(\n",
    "            quantized_exported_program,\n",
    "            partitioner=[partitioner],\n",
    "            compile_config=EdgeCompileConfig(\n",
    "                _check_ir_validity=False,\n",
    "            ),\n",
    ")\n",
    "\n",
    "# Convert edge program to executorch\n",
    "executorch_program_manager = edge_program_manager.to_executorch(\n",
    "            config=ExecutorchBackendConfig(extract_delegate_segments=False)\n",
    ")\n",
    "\n",
    "executorch_program_manager.exported_program().module().print_readable()\n",
    "\n",
    "# Save pte file\n",
    "cwd_dir = os.getcwd()\n",
    "pte_base_name = \"simple_example\"\n",
    "pte_name = pte_base_name + \".pte\"\n",
    "pte_path = os.path.join(cwd_dir, pte_name)\n",
    "save_pte_program(executorch_program_manager, pte_name)\n",
    "assert os.path.exists(pte_path), \"Build failed; no .pte-file found\""
   ]
  },
  {
   "cell_type": "markdown",
   "metadata": {},
   "source": [
    "## Build executor runtime\n",
    "\n",
    "### Prerequisite\n",
    "With our VGF inside our PTE we now need to setup the runtime. To do this we will use the previously built MLSDK dependencies, but we will also need to setup a Vulkan environment externally to Executorch.\n",
    "Plese follow https://vulkan.lunarg.com/sdk/home in order to setup. \n",
    "\n",
    "\n",
    "After the AOT compilation flow is done, we need to build the executor_runner target. For this example the generic version will be used.\n",
    "To do this, please ensure the following commands are executed before moving onto the next step.\n",
    "\n",
    "Clean and configure the CMake build system. Compiled programs will appear in the executorch/cmake-out directory we create here.\n",
    "```\n",
    "cmake \\\n",
    "  -DCMAKE_INSTALL_PREFIX=cmake-out \\\n",
    "  -DCMAKE_BUILD_TYPE=Debug \\\n",
    "  -DEXECUTORCH_BUILD_EXTENSION_DATA_LOADER=ON \\\n",
    "  -DEXECUTORCH_BUILD_EXTENSION_MODULE=ON \\\n",
    "  -DEXECUTORCH_BUILD_EXTENSION_FLAT_TENSOR=ON \\\n",
    "  -DEXECUTORCH_BUILD_EXTENSION_TENSOR=ON \\\n",
    "  -DEXECUTORCH_BUILD_KERNELS_QUANTIZED=ON \\\n",
    "  -DEXECUTORCH_BUILD_XNNPACK=OFF \\\n",
    "  -DEXECUTORCH_BUILD_VULKAN=ON \\\n",
    "  -DEXECUTORCH_BUILD_VGF=ON \\\n",
    "  -DEXECUTORCH_ENABLE_LOGGING=ON \\\n",
    "  -DPYTHON_EXECUTABLE=python \\\n",
    "  -Bcmake-out .\n",
    "```\n",
    "\n",
    "Build the executor_runner target\n",
    "`cmake --build cmake-out --target executor_runner`\n"
   ]
  },
  {
   "cell_type": "markdown",
   "metadata": {},
   "source": [
    "# Run on VKML Emulator\n",
    "\n",
    "We can finally use the `backends/arm/scripts/run_vkml.sh` utility script to run the .pte end-to-end and proving out a backend’s kernel implementation. This Script runs the model with an input of ones, so the expected result of the addition should be close to 2."
   ]
  },
  {
   "cell_type": "code",
   "execution_count": null,
   "metadata": {},
   "outputs": [],
   "source": [
    "import subprocess\n",
    "\n",
    "# Setup paths\n",
    "et_dir = os.path.join(cwd_dir, \"..\", \"..\")\n",
    "et_dir = os.path.abspath(et_dir)\n",
    "script_dir = os.path.join(et_dir, \"backends\", \"arm\", \"scripts\")\n",
    "\n",
    "args = f\"--model={pte_path}\"\n",
    "subprocess.run(os.path.join(script_dir, \"run_vkml.sh\") + \" \" + args, shell=True, cwd=et_dir)"
   ]
  },
  {
   "cell_type": "code",
   "execution_count": null,
   "metadata": {},
   "outputs": [],
   "source": []
  }
 ],
 "metadata": {
  "kernelspec": {
   "display_name": "Python 3 (ipykernel)",
   "language": "python",
   "name": "python3"
  },
  "language_info": {
   "codemirror_mode": {
    "name": "ipython",
    "version": 3
   },
   "file_extension": ".py",
   "mimetype": "text/x-python",
   "name": "python",
   "nbconvert_exporter": "python",
   "pygments_lexer": "ipython3",
   "version": "3.10.12"
  }
 },
 "nbformat": 4,
 "nbformat_minor": 4
}
