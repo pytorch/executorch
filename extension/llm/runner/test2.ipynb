{
 "cells": [
  {
   "cell_type": "code",
   "execution_count": 1,
   "id": "6d6107d0",
   "metadata": {},
   "outputs": [
    {
     "name": "stderr",
     "output_type": "stream",
     "text": [
      "I tokenizers:regex.cpp:27] Registering override fallback regex\n",
      "/Users/mengweiliu/miniconda3/envs/executorch/lib/python3.12/site-packages/tqdm/auto.py:21: TqdmWarning: IProgress not found. Please update jupyter and ipywidgets. See https://ipywidgets.readthedocs.io/en/stable/user_install.html\n",
      "  from .autonotebook import tqdm as notebook_tqdm\n",
      "W0919 00:02:56.437000 17305 site-packages/torch/distributed/elastic/multiprocessing/redirects.py:29] NOTE: Redirects are currently not supported in Windows or MacOs.\n"
     ]
    }
   ],
   "source": [
    "from executorch.extension.llm.runner import MultimodalRunner, GenerationConfig, make_image_input, make_text_input\n",
    "from executorch.kernels import quantized\n",
    "from transformers import AutoProcessor\n",
    "from executorch.extension.llm.custom_ops import custom_ops"
   ]
  },
  {
   "cell_type": "code",
   "execution_count": 2,
   "id": "78c3dc54",
   "metadata": {},
   "outputs": [
    {
     "name": "stderr",
     "output_type": "stream",
     "text": [
      "Fetching 1 files: 100%|██████████| 1/1 [00:00<00:00, 4739.33it/s]\n",
      "Fetching 1 files: 100%|██████████| 1/1 [00:00<00:00, 20360.70it/s]\n"
     ]
    }
   ],
   "source": [
    "model_id = \"mistralai/Voxtral-Mini-3B-2507\"\n",
    "processor = AutoProcessor.from_pretrained(model_id)\n",
    "audio_url = \"https://huggingface.co/datasets/eustlb/audio-samples/resolve/main/dude_where_is_my_car.wav\"\n",
    "conversation = [\n",
    "    {\n",
    "        \"role\": \"user\",\n",
    "        \"content\": [\n",
    "            {\"type\": \"audio\", \"url\": audio_url},\n",
    "            {\n",
    "                \"type\": \"text\",\n",
    "                \"text\": \"What can you tell me about this audio?\",\n",
    "            },\n",
    "        ],\n",
    "    },\n",
    "]\n",
    "inputs = processor.apply_chat_template(conversation,\n",
    "    tokenize=True,\n",
    "    return_dict=True,\n",
    "    return_tensors=\"pt\")\n"
   ]
  },
  {
   "cell_type": "code",
   "execution_count": 6,
   "id": "06c66c1e",
   "metadata": {},
   "outputs": [],
   "source": [
    "from transformers import AutoTokenizer\n",
    "tokenizer = AutoTokenizer.from_pretrained(model_id)\n",
    "# tokenizer.save_pretrained(\"/Volumes/larryliu/work/models/voxtral/\")"
   ]
  },
  {
   "cell_type": "code",
   "execution_count": 3,
   "id": "63036bba",
   "metadata": {},
   "outputs": [],
   "source": [
    "l = inputs[\"input_ids\"].tolist()"
   ]
  },
  {
   "cell_type": "code",
   "execution_count": 12,
   "id": "9cc5d94e",
   "metadata": {},
   "outputs": [
    {
     "data": {
      "text/plain": [
       "[1063, 4]"
      ]
     },
     "execution_count": 12,
     "metadata": {},
     "output_type": "execute_result"
    }
   ],
   "source": [
    "l[0][-2:]"
   ]
  },
  {
   "cell_type": "code",
   "execution_count": 7,
   "id": "73b72465",
   "metadata": {},
   "outputs": [
    {
     "data": {
      "text/plain": [
       "'<s>[INST][BEGIN_AUDIO][AUDIO][AUDIO][AUDIO][AUDIO][AUDIO][AUDIO][AUDIO][AUDIO][AUDIO][AUDIO][AUDIO][AUDIO][AUDIO][AUDIO][AUDIO][AUDIO][AUDIO][AUDIO][AUDIO][AUDIO][AUDIO][AUDIO][AUDIO][AUDIO][AUDIO][AUDIO][AUDIO][AUDIO][AUDIO][AUDIO][AUDIO][AUDIO][AUDIO][AUDIO][AUDIO][AUDIO][AUDIO][AUDIO][AUDIO][AUDIO][AUDIO][AUDIO][AUDIO][AUDIO][AUDIO][AUDIO][AUDIO][AUDIO][AUDIO][AUDIO][AUDIO][AUDIO][AUDIO][AUDIO][AUDIO][AUDIO][AUDIO][AUDIO][AUDIO][AUDIO][AUDIO][AUDIO][AUDIO][AUDIO][AUDIO][AUDIO][AUDIO][AUDIO][AUDIO][AUDIO][AUDIO][AUDIO][AUDIO][AUDIO][AUDIO][AUDIO][AUDIO][AUDIO][AUDIO][AUDIO][AUDIO][AUDIO][AUDIO][AUDIO][AUDIO][AUDIO][AUDIO][AUDIO][AUDIO][AUDIO][AUDIO][AUDIO][AUDIO][AUDIO][AUDIO][AUDIO][AUDIO][AUDIO][AUDIO][AUDIO][AUDIO][AUDIO][AUDIO][AUDIO][AUDIO][AUDIO][AUDIO][AUDIO][AUDIO][AUDIO][AUDIO][AUDIO][AUDIO][AUDIO][AUDIO][AUDIO][AUDIO][AUDIO][AUDIO][AUDIO][AUDIO][AUDIO][AUDIO][AUDIO][AUDIO][AUDIO][AUDIO][AUDIO][AUDIO][AUDIO][AUDIO][AUDIO][AUDIO][AUDIO][AUDIO][AUDIO][AUDIO][AUDIO][AUDIO][AUDIO][AUDIO][AUDIO][AUDIO][AUDIO][AUDIO][AUDIO][AUDIO][AUDIO][AUDIO][AUDIO][AUDIO][AUDIO][AUDIO][AUDIO][AUDIO][AUDIO][AUDIO][AUDIO][AUDIO][AUDIO][AUDIO][AUDIO][AUDIO][AUDIO][AUDIO][AUDIO][AUDIO][AUDIO][AUDIO][AUDIO][AUDIO][AUDIO][AUDIO][AUDIO][AUDIO][AUDIO][AUDIO][AUDIO][AUDIO][AUDIO][AUDIO][AUDIO][AUDIO][AUDIO][AUDIO][AUDIO][AUDIO][AUDIO][AUDIO][AUDIO][AUDIO][AUDIO][AUDIO][AUDIO][AUDIO][AUDIO][AUDIO][AUDIO][AUDIO][AUDIO][AUDIO][AUDIO][AUDIO][AUDIO][AUDIO][AUDIO][AUDIO][AUDIO][AUDIO][AUDIO][AUDIO][AUDIO][AUDIO][AUDIO][AUDIO][AUDIO][AUDIO][AUDIO][AUDIO][AUDIO][AUDIO][AUDIO][AUDIO][AUDIO][AUDIO][AUDIO][AUDIO][AUDIO][AUDIO][AUDIO][AUDIO][AUDIO][AUDIO][AUDIO][AUDIO][AUDIO][AUDIO][AUDIO][AUDIO][AUDIO][AUDIO][AUDIO][AUDIO][AUDIO][AUDIO][AUDIO][AUDIO][AUDIO][AUDIO][AUDIO][AUDIO][AUDIO][AUDIO][AUDIO][AUDIO][AUDIO][AUDIO][AUDIO][AUDIO][AUDIO][AUDIO][AUDIO][AUDIO][AUDIO][AUDIO][AUDIO][AUDIO][AUDIO][AUDIO][AUDIO][AUDIO][AUDIO][AUDIO][AUDIO][AUDIO][AUDIO][AUDIO][AUDIO][AUDIO][AUDIO][AUDIO][AUDIO][AUDIO][AUDIO][AUDIO][AUDIO][AUDIO][AUDIO][AUDIO][AUDIO][AUDIO][AUDIO][AUDIO][AUDIO][AUDIO][AUDIO][AUDIO][AUDIO][AUDIO][AUDIO][AUDIO][AUDIO][AUDIO][AUDIO][AUDIO][AUDIO][AUDIO][AUDIO][AUDIO][AUDIO][AUDIO][AUDIO][AUDIO][AUDIO][AUDIO][AUDIO][AUDIO][AUDIO][AUDIO][AUDIO][AUDIO][AUDIO][AUDIO][AUDIO][AUDIO][AUDIO][AUDIO][AUDIO][AUDIO][AUDIO][AUDIO][AUDIO][AUDIO][AUDIO][AUDIO][AUDIO][AUDIO][AUDIO][AUDIO][AUDIO][AUDIO][AUDIO][AUDIO][AUDIO][AUDIO][AUDIO][AUDIO][AUDIO][AUDIO][AUDIO][AUDIO][AUDIO][AUDIO][AUDIO][AUDIO][AUDIO][AUDIO][AUDIO][AUDIO][AUDIO][AUDIO][AUDIO][AUDIO][AUDIO][AUDIO][AUDIO][AUDIO][AUDIO][AUDIO][AUDIO][AUDIO][AUDIO][AUDIO][AUDIO][AUDIO][AUDIO][AUDIO][AUDIO][AUDIO][AUDIO][AUDIO][AUDIO][AUDIO][AUDIO][AUDIO][AUDIO][AUDIO][AUDIO][AUDIO][AUDIO][AUDIO][AUDIO][AUDIO][AUDIO][AUDIO][AUDIO][AUDIO][AUDIO][AUDIO][AUDIO][AUDIO][AUDIO][AUDIO][AUDIO][AUDIO][AUDIO][AUDIO][AUDIO][AUDIO][AUDIO][AUDIO][AUDIO][AUDIO][AUDIO][AUDIO][AUDIO][AUDIO][AUDIO][AUDIO][AUDIO][AUDIO][AUDIO][AUDIO][AUDIO][AUDIO][AUDIO][AUDIO][AUDIO][AUDIO][AUDIO][AUDIO][AUDIO][AUDIO][AUDIO][AUDIO][AUDIO][AUDIO][AUDIO][AUDIO][AUDIO][AUDIO][AUDIO][AUDIO][AUDIO][AUDIO][AUDIO][AUDIO][AUDIO][AUDIO][AUDIO][AUDIO][AUDIO][AUDIO][AUDIO][AUDIO][AUDIO][AUDIO][AUDIO][AUDIO][AUDIO][AUDIO][AUDIO][AUDIO][AUDIO][AUDIO][AUDIO][AUDIO][AUDIO][AUDIO][AUDIO][AUDIO][AUDIO][AUDIO][AUDIO][AUDIO][AUDIO][AUDIO][AUDIO][AUDIO][AUDIO][AUDIO][AUDIO][AUDIO][AUDIO][AUDIO][AUDIO][AUDIO][AUDIO][AUDIO][AUDIO][AUDIO][AUDIO][AUDIO][AUDIO][AUDIO][AUDIO][AUDIO][AUDIO][AUDIO][AUDIO][AUDIO][AUDIO][AUDIO][AUDIO][AUDIO][AUDIO][AUDIO][AUDIO][AUDIO][AUDIO][AUDIO][AUDIO][AUDIO][AUDIO][AUDIO][AUDIO][AUDIO][AUDIO][AUDIO][AUDIO][AUDIO][AUDIO][AUDIO][AUDIO][AUDIO][AUDIO][AUDIO][AUDIO][AUDIO][AUDIO][AUDIO][AUDIO][AUDIO][AUDIO][AUDIO][AUDIO][AUDIO][AUDIO][AUDIO][AUDIO][AUDIO][AUDIO][AUDIO][AUDIO][AUDIO][AUDIO][AUDIO][AUDIO][AUDIO][AUDIO][AUDIO][AUDIO][AUDIO][AUDIO][AUDIO][AUDIO][AUDIO][AUDIO][AUDIO][AUDIO][AUDIO][AUDIO][AUDIO][AUDIO][AUDIO][AUDIO][AUDIO][AUDIO][AUDIO][AUDIO][AUDIO][AUDIO][AUDIO][AUDIO][AUDIO][AUDIO][AUDIO][AUDIO][AUDIO][AUDIO][AUDIO][AUDIO][AUDIO][AUDIO][AUDIO][AUDIO][AUDIO][AUDIO][AUDIO][AUDIO][AUDIO][AUDIO][AUDIO][AUDIO][AUDIO][AUDIO][AUDIO][AUDIO][AUDIO][AUDIO][AUDIO][AUDIO][AUDIO][AUDIO][AUDIO][AUDIO][AUDIO][AUDIO][AUDIO][AUDIO][AUDIO][AUDIO][AUDIO][AUDIO][AUDIO][AUDIO][AUDIO][AUDIO][AUDIO][AUDIO][AUDIO][AUDIO][AUDIO][AUDIO][AUDIO][AUDIO][AUDIO][AUDIO][AUDIO][AUDIO][AUDIO][AUDIO][AUDIO][AUDIO][AUDIO][AUDIO][AUDIO][AUDIO][AUDIO][AUDIO][AUDIO][AUDIO][AUDIO][AUDIO][AUDIO][AUDIO][AUDIO][AUDIO][AUDIO][AUDIO][AUDIO][AUDIO][AUDIO][AUDIO][AUDIO][AUDIO][AUDIO][AUDIO][AUDIO][AUDIO][AUDIO][AUDIO][AUDIO][AUDIO][AUDIO][AUDIO][AUDIO][AUDIO][AUDIO][AUDIO][AUDIO][AUDIO][AUDIO][AUDIO][AUDIO][AUDIO][AUDIO][AUDIO][AUDIO][AUDIO][AUDIO][AUDIO][AUDIO][AUDIO][AUDIO][AUDIO][AUDIO][AUDIO][AUDIO][AUDIO][AUDIO][AUDIO][AUDIO][AUDIO][AUDIO][AUDIO][AUDIO][AUDIO][AUDIO][AUDIO][AUDIO][AUDIO][AUDIO][AUDIO][AUDIO][AUDIO][AUDIO][AUDIO][AUDIO][AUDIO][AUDIO][AUDIO][AUDIO][AUDIO][AUDIO][AUDIO][AUDIO][AUDIO][AUDIO][AUDIO][AUDIO][AUDIO][AUDIO][AUDIO][AUDIO][AUDIO][AUDIO][AUDIO][AUDIO][AUDIO][AUDIO][AUDIO][AUDIO][AUDIO][AUDIO][AUDIO][AUDIO][AUDIO][AUDIO][AUDIO][AUDIO][AUDIO][AUDIO][AUDIO][AUDIO][AUDIO][AUDIO][AUDIO][AUDIO][AUDIO][AUDIO][AUDIO][AUDIO][AUDIO][AUDIO][AUDIO][AUDIO][AUDIO][AUDIO][AUDIO][AUDIO][AUDIO][AUDIO][AUDIO][AUDIO][AUDIO][AUDIO][AUDIO][AUDIO][AUDIO][AUDIO][AUDIO][AUDIO][AUDIO][AUDIO][AUDIO][AUDIO][AUDIO][AUDIO][AUDIO][AUDIO][AUDIO][AUDIO][AUDIO][AUDIO][AUDIO][AUDIO][AUDIO][AUDIO][AUDIO][AUDIO][AUDIO][AUDIO][AUDIO][AUDIO][AUDIO][AUDIO][AUDIO][AUDIO][AUDIO][AUDIO][AUDIO][AUDIO][AUDIO][AUDIO][AUDIO][AUDIO][AUDIO][AUDIO][AUDIO][AUDIO][AUDIO][AUDIO][AUDIO][AUDIO][AUDIO][AUDIO][AUDIO][AUDIO][AUDIO][AUDIO][AUDIO][AUDIO][AUDIO][AUDIO][AUDIO][AUDIO][AUDIO][AUDIO][AUDIO][AUDIO][AUDIO][AUDIO][AUDIO][AUDIO][AUDIO][AUDIO][AUDIO][AUDIO][AUDIO][AUDIO][AUDIO][AUDIO][AUDIO][AUDIO][AUDIO][AUDIO][AUDIO][AUDIO][AUDIO][AUDIO][AUDIO][AUDIO][AUDIO][AUDIO][AUDIO][AUDIO][AUDIO][AUDIO][AUDIO][AUDIO][AUDIO][AUDIO][AUDIO][AUDIO][AUDIO][AUDIO][AUDIO][AUDIO][AUDIO][AUDIO][AUDIO][AUDIO][AUDIO][AUDIO][AUDIO][AUDIO][AUDIO][AUDIO][AUDIO][AUDIO][AUDIO][AUDIO][AUDIO][AUDIO][AUDIO][AUDIO][AUDIO][AUDIO][AUDIO][AUDIO][AUDIO][AUDIO][AUDIO][AUDIO][AUDIO][AUDIO][AUDIO][AUDIO][AUDIO][AUDIO][AUDIO][AUDIO][AUDIO][AUDIO][AUDIO][AUDIO][AUDIO][AUDIO][AUDIO][AUDIO][AUDIO][AUDIO][AUDIO][AUDIO][AUDIO][AUDIO][AUDIO][AUDIO][AUDIO][AUDIO][AUDIO][AUDIO][AUDIO][AUDIO][AUDIO][AUDIO][AUDIO][AUDIO][AUDIO][AUDIO][AUDIO][AUDIO][AUDIO][AUDIO][AUDIO][AUDIO][AUDIO][AUDIO][AUDIO][AUDIO][AUDIO][AUDIO][AUDIO][AUDIO][AUDIO][AUDIO][AUDIO][AUDIO][AUDIO][AUDIO][AUDIO][AUDIO][AUDIO][AUDIO][AUDIO][AUDIO][AUDIO][AUDIO][AUDIO][AUDIO][AUDIO][AUDIO][AUDIO][AUDIO][AUDIO][AUDIO][AUDIO][AUDIO][AUDIO][AUDIO][AUDIO][AUDIO][AUDIO][AUDIO][AUDIO][AUDIO][AUDIO][AUDIO][AUDIO][AUDIO][AUDIO][AUDIO][AUDIO][AUDIO][AUDIO][AUDIO][AUDIO][AUDIO][AUDIO][AUDIO][AUDIO][AUDIO][AUDIO][AUDIO][AUDIO][AUDIO][AUDIO][AUDIO][AUDIO][AUDIO][AUDIO][AUDIO][AUDIO][AUDIO][AUDIO][AUDIO][AUDIO][AUDIO][AUDIO][AUDIO][AUDIO][AUDIO][AUDIO][AUDIO][AUDIO][AUDIO][AUDIO][AUDIO][AUDIO][AUDIO][AUDIO][AUDIO][AUDIO][AUDIO][AUDIO][AUDIO][AUDIO][AUDIO][AUDIO][AUDIO][AUDIO][AUDIO][AUDIO][AUDIO][AUDIO][AUDIO][AUDIO][AUDIO][AUDIO][AUDIO][AUDIO][AUDIO][AUDIO][AUDIO][AUDIO][AUDIO][AUDIO][AUDIO][AUDIO][AUDIO][AUDIO][AUDIO][AUDIO][AUDIO][AUDIO][AUDIO][AUDIO][AUDIO][AUDIO][AUDIO][AUDIO][AUDIO][AUDIO][AUDIO][AUDIO][AUDIO][AUDIO][AUDIO][AUDIO][AUDIO][AUDIO][AUDIO][AUDIO][AUDIO][AUDIO][AUDIO][AUDIO][AUDIO][AUDIO][AUDIO][AUDIO][AUDIO][AUDIO][AUDIO][AUDIO][AUDIO][AUDIO][AUDIO][AUDIO][AUDIO][AUDIO][AUDIO][AUDIO][AUDIO][AUDIO][AUDIO][AUDIO][AUDIO][AUDIO][AUDIO][AUDIO][AUDIO][AUDIO][AUDIO][AUDIO][AUDIO][AUDIO][AUDIO][AUDIO][AUDIO][AUDIO][AUDIO][AUDIO][AUDIO][AUDIO][AUDIO][AUDIO][AUDIO][AUDIO][AUDIO][AUDIO][AUDIO][AUDIO][AUDIO]What can you tell me about this audio?[/INST]'"
      ]
     },
     "execution_count": 7,
     "metadata": {},
     "output_type": "execute_result"
    }
   ],
   "source": [
    "tokenizer.decode(inputs[\"input_ids\"].tolist()[0])"
   ]
  },
  {
   "cell_type": "code",
   "execution_count": 17,
   "id": "81d4b785",
   "metadata": {},
   "outputs": [
    {
     "data": {
      "text/plain": [
       "[1, 1091, 91264, 10376, 84310, 1093, 2]"
      ]
     },
     "execution_count": 17,
     "metadata": {},
     "output_type": "execute_result"
    }
   ],
   "source": [
    "tokenizer.encode(\"[BEGIN_AUDIO]\")"
   ]
  },
  {
   "cell_type": "code",
   "execution_count": 8,
   "id": "70173f48",
   "metadata": {},
   "outputs": [],
   "source": [
    "from executorch.extension.llm.runner import make_audio_input, make_token_input"
   ]
  },
  {
   "cell_type": "code",
   "execution_count": 5,
   "id": "dc074f25",
   "metadata": {},
   "outputs": [
    {
     "data": {
      "text/plain": [
       "torch.Size([3, 128, 3000])"
      ]
     },
     "execution_count": 5,
     "metadata": {},
     "output_type": "execute_result"
    }
   ],
   "source": [
    "inputs[\"input_features\"].shape"
   ]
  },
  {
   "cell_type": "code",
   "execution_count": null,
   "id": "9987ae1f",
   "metadata": {},
   "outputs": [
    {
     "name": "stderr",
     "output_type": "stream",
     "text": [
      "I tokenizers:tekken.cpp:88] Loading Tekken tokenizer from: /Volumes/larryliu/work/models/voxtral/tekken.json\n",
      "I tokenizers:tekken.cpp:117] Tekken version: v7, vocab_size: 131072, special_tokens: 1000\n",
      "I tokenizers:tekken.cpp:123] Loading special tokens from JSON\n",
      "I tokenizers:tekken.cpp:287] Initialized 1000 special tokens (1000 defined, 0 placeholders)\n",
      "I tokenizers:tekken.cpp:140] Loading 130072 vocabulary tokens\n",
      "I tokenizers:tekken.cpp:227] Processing 130072 vocabulary entries (limit: 130072)\n",
      "I tokenizers:tekken.cpp:260] Built vocabulary with 130072 tokens\n",
      "WARNING: All log messages before absl::InitializeLog() is called are written to STDERR\n",
      "E0000 00:00:1758265519.484524 137702822 re2.cc:237] Error parsing '([^\\r\\n\\p{L}\\p{N}]?[\\p{Lu}\\p{Lt}\\p{Lm}\\p{Lo}\\p{M}]*[\\p{Ll}\\p{Lm}\\p{Lo}\\p{M}]+|[^\\r\\n\\p{L}\\p{N}]?[\\p{...': invalid perl operator: (?!\n",
      "E tokenizers:re2_regex.cpp:26] Failed to compile regex: ([^\\r\\n\\p{L}\\p{N}]?[\\p{Lu}\\p{Lt}\\p{Lm}\\p{Lo}\\p{M}]*[\\p{Ll}\\p{Lm}\\p{Lo}\\p{M}]+|[^\\r\\n\\p{L}\\p{N}]?[\\p{Lu}\\p{Lt}\\p{Lm}\\p{Lo}\\p{M}]+[\\p{Ll}\\p{Lm}\\p{Lo}\\p{M}]*|\\p{N}| ?[^\\s\\p{L}\\p{N}]+[\\r\\n/]*|\\s*[\\r\\n]+|\\s+(?!\\S)|\\s+), error: invalid$\n",
      "I tokenizers:regex_lookahead.cpp:27] Creating PCRE2 regex\n",
      "I tokenizers:tekken.cpp:186] Tekken tokenizer loaded successfully. Vocab size: 131072, BOS: 1, EOS: 2\n",
      "[llm_runner_helper.cpp:48] Loaded tekken tokenizer\n",
      "[llm_runner_helper.cpp:270] Reading metadata from model\n",
      "[llm_runner_helper.cpp:133] Metadata: use_sdpa_with_kv_cache = 1\n",
      "[llm_runner_helper.cpp:133] Metadata: use_kv_cache = 1\n",
      "[llm_runner_helper.cpp:131] Method get_max_context_len not found, using the default value 128\n",
      "[llm_runner_helper.cpp:133] Metadata: get_max_context_len = 128\n",
      "[llm_runner_helper.cpp:133] Metadata: get_max_seq_len = 2048\n",
      "[llm_runner_helper.cpp:131] Method enable_dynamic_shape not found, using the default value 0\n",
      "[llm_runner_helper.cpp:133] Metadata: enable_dynamic_shape = 0\n",
      "[llm_runner_helper.cpp:144] Setting kMaxContextLen to kMaxSeqLen value: 2048\n",
      "[multimodal_runner.cpp:88] RSS after loading model: 0.000000 MiB (0 if unsupported)\n",
      "[multimodal_runner.cpp:114] Prefilling input 0/4, type: unknown\n",
      "[util.h:125] second_input_sizes[0] = 2047\n",
      "[multimodal_runner.cpp:114] Prefilling input 1/4, type: audio\n",
      "[util.h:125] second_input_sizes[0] = 2047\n",
      "[multimodal_runner.cpp:114] Prefilling input 2/4, type: text\n",
      "[util.h:125] second_input_sizes[0] = 2047\n",
      "[multimodal_runner.cpp:114] Prefilling input 3/4, type: unknown\n",
      "[util.h:125] second_input_sizes[0] = 2047\n",
      "[multimodal_runner.cpp:132] RSS after multimodal input processing: 0.000000 MiB (0 if unsupported)\n",
      "[multimodal_runner.cpp:144] Max new tokens resolved: 100, pos_ 1139, max_context_len 2048\n"
     ]
    },
    {
     "name": "stdout",
     "output_type": "stream",
     "text": [
      "</s>Oh, sorry. Sorry.</s>\n",
      "\n",
      "PyTorchObserver {\"prompt_tokens\":1139,\"generated_tokens\":7,\"model_load_start_ms\":1758265519513,\"model_load_end_ms\":1758265521463,\"inference_start_ms\":1758265521463,\"inference_end_ms\":1758265554533,\"prompt_eval_end_ms\":1758265554142,\"first_token_ms\":1758265554142,\"aggregate_sampling_time_ms\":1,\"SCALING_FACTOR_UNITS_PER_SECOND\":1000}\n"
     ]
    },
    {
     "name": "stderr",
     "output_type": "stream",
     "text": [
      "[text_token_generator.h:123] \n",
      "Reached to the end of generation\n",
      "[stats.h:108] \tPrompt Tokens: 1139    Generated Tokens: 7\n",
      "[stats.h:114] \tModel Load Time:\t\t1.950000 (seconds)\n",
      "[stats.h:124] \tTotal inference time:\t\t33.070000 (seconds)\t\t Rate: \t0.211672 (tokens/second)\n",
      "[stats.h:132] \t\tPrompt evaluation:\t32.679000 (seconds)\t\t Rate: \t34.854188 (tokens/second)\n",
      "[stats.h:143] \t\tGenerated 7 tokens:\t0.391000 (seconds)\t\t Rate: \t17.902813 (tokens/second)\n",
      "[stats.h:151] \tTime to first generated token:\t32.679000 (seconds)\n",
      "[stats.h:158] \tSampling time over 1146 tokens:\t0.001000 (seconds)\n"
     ]
    }
   ],
   "source": [
    "inputs_combined = [\n",
    "    make_token_input([1, 3, 25]),\n",
    "    make_audio_input(inputs[\"input_features\"]), \n",
    "    make_text_input(\"\\nWhat can you tell me about this audio?\"),\n",
    "]\n",
    "runner = MultimodalRunner(\"/Volumes/larryliu/work/models/voxtral/model.pte\", \"/Volumes/larryliu/work/models/voxtral/tekken.json\", None)\n",
    "config = GenerationConfig()\n",
    "config.max_new_tokens = 100\n",
    "runner.generate(inputs_combined, config)"
   ]
  },
  {
   "cell_type": "code",
   "execution_count": 15,
   "id": "3fc4519b",
   "metadata": {},
   "outputs": [
    {
     "ename": "AttributeError",
     "evalue": "'MultimodalRunner' object has no attribute 'reset'",
     "output_type": "error",
     "traceback": [
      "\u001b[31m---------------------------------------------------------------------------\u001b[39m",
      "\u001b[31mAttributeError\u001b[39m                            Traceback (most recent call last)",
      "\u001b[36mCell\u001b[39m\u001b[36m \u001b[39m\u001b[32mIn[15]\u001b[39m\u001b[32m, line 1\u001b[39m\n\u001b[32m----> \u001b[39m\u001b[32m1\u001b[39m \u001b[43mrunner\u001b[49m\u001b[43m.\u001b[49m\u001b[43mreset\u001b[49m()\n\u001b[32m      2\u001b[39m inputs_combined = [\n\u001b[32m      3\u001b[39m     make_token_input([\u001b[32m1\u001b[39m, \u001b[32m3\u001b[39m, \u001b[32m25\u001b[39m]),\n\u001b[32m      4\u001b[39m     make_audio_input(inputs[\u001b[33m\"\u001b[39m\u001b[33minput_features\u001b[39m\u001b[33m\"\u001b[39m]), \n\u001b[32m      5\u001b[39m     make_text_input(\u001b[33m\"\u001b[39m\u001b[38;5;130;01m\\n\u001b[39;00m\u001b[33mWhat can you tell me about this audio?\u001b[39m\u001b[33m\"\u001b[39m),\n\u001b[32m      6\u001b[39m ]\n\u001b[32m      7\u001b[39m runner.generate(inputs_combined, config)\n",
      "\u001b[31mAttributeError\u001b[39m: 'MultimodalRunner' object has no attribute 'reset'"
     ]
    }
   ],
   "source": [
    "runner.reset()\n",
    "inputs_combined = [\n",
    "    make_token_input([1, 3, 25]),\n",
    "    make_audio_input(inputs[\"input_features\"]), \n",
    "    make_text_input(\"\\nWhat can you tell me about this audio?\"),\n",
    "]\n",
    "runner.generate(inputs_combined, config)"
   ]
  },
  {
   "cell_type": "code",
   "execution_count": 15,
   "id": "22b8dbf9",
   "metadata": {},
   "outputs": [],
   "source": [
    "from executorch.extension.pybindings.portable_lib import _load_for_executorch"
   ]
  },
  {
   "cell_type": "code",
   "execution_count": 16,
   "id": "9bae6e55",
   "metadata": {},
   "outputs": [],
   "source": [
    "module = _load_for_executorch(\"/Volumes/larryliu/work/models/voxtral/model.pte\")"
   ]
  },
  {
   "cell_type": "code",
   "execution_count": 17,
   "id": "8a48cc1d",
   "metadata": {},
   "outputs": [
    {
     "name": "stdout",
     "output_type": "stream",
     "text": [
      "MethodMeta(name='audio_encoder', num_inputs=1, input_tensor_meta=['TensorInfo(sizes=[10, 128, 3000], dtype=Float, is_memory_planned=False, nbytes=15360000)'], num_outputs=1, output_tensor_meta=['TensorInfo(sizes=[1, 3750, 3072], dtype=Float, is_memory_planned=True, nbytes=46080000)'])\n"
     ]
    }
   ],
   "source": [
    "print(module.method_meta(\"audio_encoder\"))"
   ]
  },
  {
   "cell_type": "code",
   "execution_count": 27,
   "id": "86217dbc",
   "metadata": {},
   "outputs": [],
   "source": [
    "image = inputs[\"pixel_values\"]"
   ]
  },
  {
   "cell_type": "code",
   "execution_count": 47,
   "id": "95ef85d4",
   "metadata": {},
   "outputs": [],
   "source": [
    "res = module.run_method(\"vision_encoder\", [image])"
   ]
  },
  {
   "cell_type": "code",
   "execution_count": 48,
   "id": "5cf24682",
   "metadata": {},
   "outputs": [
    {
     "name": "stdout",
     "output_type": "stream",
     "text": [
      "torch.Size([1, 576, 4096])\n"
     ]
    }
   ],
   "source": [
    "print(res[0].shape)"
   ]
  },
  {
   "cell_type": "code",
   "execution_count": 33,
   "id": "a8460349",
   "metadata": {},
   "outputs": [
    {
     "name": "stderr",
     "output_type": "stream",
     "text": [
      "`torch_dtype` is deprecated! Use `dtype` instead!\n"
     ]
    },
    {
     "name": "stderr",
     "output_type": "stream",
     "text": [
      "Loading checkpoint shards: 100%|██████████| 3/3 [00:07<00:00,  2.46s/it]\n"
     ]
    }
   ],
   "source": [
    "from transformers import LlavaForConditionalGeneration\n",
    "model = LlavaForConditionalGeneration.from_pretrained(model_id, torch_dtype=\"auto\", device_map=\"auto\")"
   ]
  },
  {
   "cell_type": "code",
   "execution_count": 34,
   "id": "2ee3cf87",
   "metadata": {},
   "outputs": [
    {
     "data": {
      "text/plain": [
       "'llava-hf/llava-1.5-7b-hf'"
      ]
     },
     "execution_count": 34,
     "metadata": {},
     "output_type": "execute_result"
    }
   ],
   "source": [
    "model.config.name_or_path"
   ]
  },
  {
   "cell_type": "code",
   "execution_count": 35,
   "id": "20562094",
   "metadata": {},
   "outputs": [
    {
     "data": {
      "text/plain": [
       "True"
      ]
     },
     "execution_count": 35,
     "metadata": {},
     "output_type": "execute_result"
    }
   ],
   "source": [
    "\"llava\" in model.config.name_or_path"
   ]
  },
  {
   "cell_type": "code",
   "execution_count": 37,
   "id": "d07ca7fa",
   "metadata": {},
   "outputs": [],
   "source": [
    "import torch\n",
    "class VisionExportableModule(torch.nn.Module):\n",
    "    def __init__(self, model: torch.nn.Module):\n",
    "        super().__init__()\n",
    "        self.model = model\n",
    "\n",
    "    def prepare_export_inputs(self):\n",
    "        # 1. Get export inputs\n",
    "        model_id = self.model.config.name_or_path\n",
    "        processor = AutoProcessor.from_pretrained(model_id)\n",
    "        sample_conversation_with_image = [\n",
    "            {\n",
    "                \"role\": \"user\",\n",
    "                \"content\": [\n",
    "                    {\"type\": \"image\", \"url\": \"https://llava-vl.github.io/static/images/view.jpg\"},\n",
    "                ],\n",
    "            },\n",
    "        ]\n",
    "        processed_inputs = processor.apply_chat_template(\n",
    "            sample_conversation_with_image,\n",
    "            add_generation_prompt=True,\n",
    "            tokenize=True,\n",
    "            return_dict=True,\n",
    "            return_tensors=\"pt\",\n",
    "        )\n",
    "        if \"pixel_values\" not in processed_inputs:\n",
    "            raise ValueError(\n",
    "                f\"Unable to obtain sample audio encoder inputs for export for {model_id} - the processor did not return formatted inputs with the 'pixel_values' key: {processed_inputs}\"\n",
    "            )\n",
    "        export_inputs = processed_inputs[\"pixel_values\"]\n",
    "\n",
    "        # 2. Get export dynamic shapes\n",
    "        dynamic_shapes = None  # No batching for now.\n",
    "\n",
    "        return export_inputs, dynamic_shapes\n",
    "\n",
    "    def forward(\n",
    "        self,\n",
    "        input_features: torch.FloatTensor,\n",
    "    ):\n",
    "        image_embeds = self.model.get_image_features(input_features)\n",
    "        # Hack, assuming the text decoder will take a 3D tensor (batch_size, seq_len, hidden_size)\n",
    "        if \"llava\" in self.model.config.name_or_path:\n",
    "            # Llava returns a list of 2D tensors (seq_len, hidden_size)\n",
    "            return image_embeds[0].unsqueeze(0)\n",
    "        else:\n",
    "            return image_embeds"
   ]
  },
  {
   "cell_type": "code",
   "execution_count": 41,
   "id": "53a7a6eb",
   "metadata": {},
   "outputs": [],
   "source": [
    "vision = VisionExportableModule(model.to(\"cpu\"))"
   ]
  },
  {
   "cell_type": "code",
   "execution_count": 43,
   "id": "ac39bbac",
   "metadata": {},
   "outputs": [],
   "source": [
    "a = vision.forward(image.to(\"cpu\"))"
   ]
  },
  {
   "cell_type": "code",
   "execution_count": 44,
   "id": "b0a365b7",
   "metadata": {},
   "outputs": [
    {
     "data": {
      "text/plain": [
       "torch.Size([1, 576, 4096])"
      ]
     },
     "execution_count": 44,
     "metadata": {},
     "output_type": "execute_result"
    }
   ],
   "source": [
    "a.shape"
   ]
  },
  {
   "cell_type": "code",
   "execution_count": null,
   "id": "e1ed2577",
   "metadata": {},
   "outputs": [],
   "source": []
  }
 ],
 "metadata": {
  "kernelspec": {
   "display_name": "executorch",
   "language": "python",
   "name": "python3"
  },
  "language_info": {
   "codemirror_mode": {
    "name": "ipython",
    "version": 3
   },
   "file_extension": ".py",
   "mimetype": "text/x-python",
   "name": "python",
   "nbconvert_exporter": "python",
   "pygments_lexer": "ipython3",
   "version": "3.12.11"
  }
 },
 "nbformat": 4,
 "nbformat_minor": 5
}
